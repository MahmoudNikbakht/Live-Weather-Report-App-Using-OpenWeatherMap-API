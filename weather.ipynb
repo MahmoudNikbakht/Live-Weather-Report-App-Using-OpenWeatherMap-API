{
 "cells": [
  {
   "cell_type": "code",
   "execution_count": 32,
   "metadata": {},
   "outputs": [
    {
     "name": "stdout",
     "output_type": "stream",
     "text": [
      "http://api.openweathermap.org/data/2.5/weather?appid=9adced7ddff5c6dc7f031455d3dec00e&q=tehran&units=metric\n",
      "16.73\n"
     ]
    }
   ],
   "source": [
    "import requests, json\n",
    "\n",
    "\n",
    "# try:\n",
    "#     result=requests.get('https://fthhzdfgrbzdfbxdfbxdfb.com') \n",
    "#     print(result.status_code)\n",
    "# except:\n",
    "#     print(\"error\")\n",
    "\n",
    "\n",
    "api_key = \"9adced7ddff5c6dc7f031455d3dec00e\"\n",
    " \n",
    "base_url = \"http://api.openweathermap.org/data/2.5/weather?\"\n",
    " \n",
    "city_name = input(\"Enter city name : \")\n",
    "\n",
    "complete_url = base_url + \"appid=\" + api_key + \"&q=\" + city_name + \"&units=metric\"\n",
    "\n",
    "print(complete_url)\n",
    "\n",
    "response = requests.get(complete_url)\n",
    "\n",
    "x = response.json()\n",
    "\n",
    "x['main']['temp']"
   ]
  },
  {
   "cell_type": "code",
   "execution_count": 34,
   "metadata": {},
   "outputs": [],
   "source": [
    "from pyowm import OWM\n",
    "from pyowm.utils import config\n",
    "from pyowm.utils import timestamps"
   ]
  },
  {
   "cell_type": "code",
   "execution_count": 54,
   "metadata": {},
   "outputs": [
    {
     "name": "stdout",
     "output_type": "stream",
     "text": [
      "17.99\n"
     ]
    }
   ],
   "source": [
    "owm = OWM('9adced7ddff5c6dc7f031455d3dec00e')\n",
    "\n",
    "mgr = owm.weather_manager()\n",
    "observation = mgr.weather_at_place('tehran')\n",
    "w = observation.weather\n",
    "\n",
    "temp=w.temperature(unit='celsius')['temp']\n",
    " \n",
    "print(temp)         \n",
    "     "
   ]
  }
 ],
 "metadata": {
  "kernelspec": {
   "display_name": "Python 3.8.8 64-bit",
   "language": "python",
   "name": "python3"
  },
  "language_info": {
   "codemirror_mode": {
    "name": "ipython",
    "version": 3
   },
   "file_extension": ".py",
   "mimetype": "text/x-python",
   "name": "python",
   "nbconvert_exporter": "python",
   "pygments_lexer": "ipython3",
   "version": "3.8.8"
  },
  "orig_nbformat": 4,
  "vscode": {
   "interpreter": {
    "hash": "570feb405e2e27c949193ac68f46852414290d515b0ba6e5d90d076ed2284471"
   }
  }
 },
 "nbformat": 4,
 "nbformat_minor": 2
}
